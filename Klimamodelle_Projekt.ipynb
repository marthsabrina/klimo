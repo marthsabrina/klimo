{
 "cells": [
  {
   "cell_type": "code",
   "execution_count": 1,
   "metadata": {},
   "outputs": [],
   "source": [
    "import xarray as xr\n",
    "import numpy as np\n",
    "import matplotlib.pyplot as plt"
   ]
  },
  {
   "cell_type": "code",
   "execution_count": 2,
   "metadata": {},
   "outputs": [
    {
     "name": "stdout",
     "output_type": "stream",
     "text": [
      "<xarray.Dataset>\n",
      "Dimensions:    (latitude: 3, longitude: 9, time: 14610)\n",
      "Coordinates:\n",
      "  * time       (time) datetime64[ns] 1979-01-01 1979-01-02 ... 2018-12-31\n",
      "  * longitude  (longitude) float32 9.0 10.0 11.0 12.0 13.0 14.0 15.0 16.0 17.0\n",
      "  * latitude   (latitude) float32 46.0 47.0 48.0\n",
      "Data variables:\n",
      "    r          (time, latitude, longitude) float32 ...\n",
      "    q          (time, latitude, longitude) float32 ...\n",
      "    msl        (time, latitude, longitude) float32 ...\n"
     ]
    }
   ],
   "source": [
    "#Aufrufen des gesamten abgespeicherten Files\n",
    "ds=xr.open_dataset(\"C:/Users/Aspire_NB/Desktop/era5_data/small_era5_daily.nc\")\n",
    "print(ds)"
   ]
  },
  {
   "cell_type": "code",
   "execution_count": 3,
   "metadata": {},
   "outputs": [],
   "source": [
    "#gleitendes Mittel über 21 Tage: 1 Fenster in der Mitte, 10 Tage davor, 10 Tage danach (=21)\n",
    "ds_mean=ds.rolling(time=21,center=True).mean()\n",
    "\n",
    "#Berechnung der Klimatologien\n",
    "climatology=ds_mean.groupby(\"time.dayofyear\").mean('time')"
   ]
  },
  {
   "cell_type": "code",
   "execution_count": 4,
   "metadata": {},
   "outputs": [
    {
     "data": {
      "text/plain": [
       "<xarray.Dataset>\n",
       "Dimensions:    (dayofyear: 366, latitude: 3, longitude: 9)\n",
       "Coordinates:\n",
       "  * longitude  (longitude) float32 9.0 10.0 11.0 12.0 13.0 14.0 15.0 16.0 17.0\n",
       "  * latitude   (latitude) float32 46.0 47.0 48.0\n",
       "  * dayofyear  (dayofyear) int64 1 2 3 4 5 6 7 8 ... 360 361 362 363 364 365 366\n",
       "Data variables:\n",
       "    r          (dayofyear, latitude, longitude) float32 49.981453 ... 52.402916\n",
       "    q          (dayofyear, latitude, longitude) float32 0.001514967 ... 0.0012816202\n",
       "    msl        (dayofyear, latitude, longitude) float32 101939.26 ... 102305.016"
      ]
     },
     "execution_count": 4,
     "metadata": {},
     "output_type": "execute_result"
    }
   ],
   "source": [
    "climatology"
   ]
  },
  {
   "cell_type": "code",
   "execution_count": 12,
   "metadata": {},
   "outputs": [],
   "source": [
    "# Erstellen des rolling windows für die +- 21 Tage (neue Dimension)\n",
    "data_std=ds.rolling(time=21,center=True).construct(\"window_dim\")"
   ]
  },
  {
   "cell_type": "code",
   "execution_count": 13,
   "metadata": {},
   "outputs": [
    {
     "name": "stderr",
     "output_type": "stream",
     "text": [
      "C:\\Users\\Aspire_NB\\Anaconda3\\envs\\Klimaenvironment\\lib\\site-packages\\xarray\\core\\groupby.py:758: FutureWarning: Default reduction dimension will be changed to the grouped dimension in a future version of xarray. To silence this warning, pass dim=xarray.ALL_DIMS explicitly.\n",
      "  allow_lazy=True, **kwargs)\n"
     ]
    }
   ],
   "source": [
    "#Berechnen der Standardabweichungen für alle day of years (366)\n",
    "std_dayofyear=data_std.groupby(\"time.dayofyear\").std()"
   ]
  },
  {
   "cell_type": "code",
   "execution_count": 14,
   "metadata": {},
   "outputs": [
    {
     "data": {
      "text/plain": [
       "<xarray.Dataset>\n",
       "Dimensions:    (dayofyear: 366)\n",
       "Coordinates:\n",
       "  * dayofyear  (dayofyear) int64 1 2 3 4 5 6 7 8 ... 360 361 362 363 364 365 366\n",
       "Data variables:\n",
       "    r          (dayofyear) float32 24.812124 24.782173 ... 24.705183 25.596664\n",
       "    q          (dayofyear) float32 0.00079775834 0.0007875421 ... 0.0007700822\n",
       "    msl        (dayofyear) float32 1049.0269 1042.7858 ... 1047.4121 1046.5144"
      ]
     },
     "execution_count": 14,
     "metadata": {},
     "output_type": "execute_result"
    }
   ],
   "source": [
    "std_dayofyear"
   ]
  },
  {
   "cell_type": "code",
   "execution_count": 15,
   "metadata": {},
   "outputs": [],
   "source": [
    "#Anomalieberechnung und Normieren dieser\n",
    "anomalies=(ds.groupby(\"time.dayofyear\")-climatology)/std_dayofyear"
   ]
  },
  {
   "cell_type": "code",
   "execution_count": 16,
   "metadata": {},
   "outputs": [
    {
     "data": {
      "text/plain": [
       "<xarray.Dataset>\n",
       "Dimensions:    (dayofyear: 366, latitude: 3, longitude: 9, time: 14610)\n",
       "Coordinates:\n",
       "  * longitude  (longitude) float32 9.0 10.0 11.0 12.0 13.0 14.0 15.0 16.0 17.0\n",
       "  * latitude   (latitude) float32 46.0 47.0 48.0\n",
       "  * time       (time) datetime64[ns] 1979-01-01 1979-01-02 ... 2018-12-31\n",
       "  * dayofyear  (dayofyear) int64 1 2 3 4 5 6 7 8 ... 360 361 362 363 364 365 366\n",
       "Data variables:\n",
       "    r          (time, latitude, longitude, dayofyear) float32 -0.7191197 ... -0.63973624\n",
       "    q          (time, latitude, longitude, dayofyear) float32 -0.86109823 ... -1.0861742\n",
       "    msl        (time, latitude, longitude, dayofyear) float32 -2.12715 ... 0.91081375"
      ]
     },
     "execution_count": 16,
     "metadata": {},
     "output_type": "execute_result"
    }
   ],
   "source": [
    "anomalies"
   ]
  },
  {
   "cell_type": "code",
   "execution_count": null,
   "metadata": {},
   "outputs": [],
   "source": []
  }
 ],
 "metadata": {
  "kernelspec": {
   "display_name": "Python 3",
   "language": "python",
   "name": "python3"
  },
  "language_info": {
   "codemirror_mode": {
    "name": "ipython",
    "version": 3
   },
   "file_extension": ".py",
   "mimetype": "text/x-python",
   "name": "python",
   "nbconvert_exporter": "python",
   "pygments_lexer": "ipython3",
   "version": "3.7.3"
  }
 },
 "nbformat": 4,
 "nbformat_minor": 2
}
