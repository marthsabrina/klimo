{
 "cells": [
  {
   "cell_type": "code",
   "execution_count": 1,
   "metadata": {},
   "outputs": [],
   "source": [
    "import xarray as xr\n",
    "from glob import glob\n",
    "import numpy as np"
   ]
  },
  {
   "cell_type": "code",
   "execution_count": 2,
   "metadata": {},
   "outputs": [],
   "source": [
    "#Einlesen der Feuchte- und Druckparameter\n",
    "datapath_humidity=\"C:/Users/Aspire_NB/Desktop/era5_data/rh/humi*nc\"\n",
    "datapath_mslp=\"C:/Users/Aspire_NB/Desktop/era5_data/mslp/mslp*.nc\""
   ]
  },
  {
   "cell_type": "code",
   "execution_count": 3,
   "metadata": {},
   "outputs": [],
   "source": [
    "#Zusammenfuegen der Parameter\n",
    "filenames=glob(datapath_humidity)\n",
    "infofile=xr.open_dataset(filenames[0])\n",
    "file=xr.concat([xr.open_dataset(path,chunks=infofile.dims) for path in filenames],dim=\"time\")\n",
    "filenames=glob(datapath_mslp)\n",
    "file2=xr.concat([xr.open_dataset(path,chunks=infofile.dims) for path in filenames],dim=\"time\")\n",
    "file[\"msl\"]=file2.msl\n",
    "#file"
   ]
  },
  {
   "cell_type": "code",
   "execution_count": 6,
   "metadata": {},
   "outputs": [
    {
     "data": {
      "text/plain": [
       "<xarray.Dataset>\n",
       "Dimensions:    (latitude: 141, longitude: 141, time: 350640)\n",
       "Coordinates:\n",
       "  * longitude  (longitude) float32 -10.0 -9.75 -9.5 -9.25 ... 24.5 24.75 25.0\n",
       "  * latitude   (latitude) float32 67.5 67.25 67.0 66.75 ... 33.0 32.75 32.5\n",
       "  * time       (time) datetime64[ns] 1979-01-01 ... 2018-12-31T23:00:00\n",
       "Data variables:\n",
       "    r          (time, latitude, longitude) float32 dask.array<shape=(350640, 141, 141), chunksize=(744, 141, 141)>\n",
       "    q          (time, latitude, longitude) float32 dask.array<shape=(350640, 141, 141), chunksize=(744, 141, 141)>\n",
       "    msl        (time, latitude, longitude) float32 dask.array<shape=(350640, 141, 141), chunksize=(744, 141, 141)>\n",
       "Attributes:\n",
       "    Conventions:  CF-1.6\n",
       "    history:      2019-05-08 09:40:34 GMT by grib_to_netcdf-2.10.0: /opt/ecmw..."
      ]
     },
     "execution_count": 6,
     "metadata": {},
     "output_type": "execute_result"
    }
   ],
   "source": [
    "file"
   ]
  },
  {
   "cell_type": "code",
   "execution_count": 7,
   "metadata": {},
   "outputs": [],
   "source": [
    "#tägliches Mittel bilden\n",
    "daily_file=file.resample(time=\"1D\").mean(\"time\")"
   ]
  },
  {
   "cell_type": "code",
   "execution_count": 8,
   "metadata": {},
   "outputs": [],
   "source": [
    "#als nc-Datei abspeichern\n",
    "daily_file.to_netcdf(\"C:/Users/Aspire_NB/Desktop/era5_data/era5_daily.nc\")"
   ]
  },
  {
   "cell_type": "code",
   "execution_count": null,
   "metadata": {},
   "outputs": [],
   "source": []
  },
  {
   "cell_type": "code",
   "execution_count": null,
   "metadata": {},
   "outputs": [],
   "source": []
  },
  {
   "cell_type": "code",
   "execution_count": 5,
   "metadata": {},
   "outputs": [],
   "source": [
    "#Um die Domäne-einstellungen (Lat,Lon) zu ändern:\n",
    "#new_file=file.sel(latitude=np.arange(30,60),longitude=np.arange(10,20))"
   ]
  },
  {
   "cell_type": "code",
   "execution_count": 9,
   "metadata": {},
   "outputs": [],
   "source": [
    "#new_file.to_netcdf(\"era5_daily.nc\")"
   ]
  },
  {
   "cell_type": "code",
   "execution_count": null,
   "metadata": {},
   "outputs": [],
   "source": []
  }
 ],
 "metadata": {
  "kernelspec": {
   "display_name": "Python 3",
   "language": "python",
   "name": "python3"
  },
  "language_info": {
   "codemirror_mode": {
    "name": "ipython",
    "version": 3
   },
   "file_extension": ".py",
   "mimetype": "text/x-python",
   "name": "python",
   "nbconvert_exporter": "python",
   "pygments_lexer": "ipython3",
   "version": "3.7.3"
  }
 },
 "nbformat": 4,
 "nbformat_minor": 2
}
