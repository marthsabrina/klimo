{
 "cells": [
  {
   "cell_type": "code",
   "execution_count": 1,
   "metadata": {},
   "outputs": [
    {
     "name": "stderr",
     "output_type": "stream",
     "text": [
      "Unable to open EPSG support file gcs.csv.  Try setting the GDAL_DATA environment variable to point to the directory containing EPSG csv files.\n"
     ]
    }
   ],
   "source": [
    "import pandas as pd\n",
    "import iris\n",
    "import xarray as xr\n",
    "from eofs.xarray import Eof\n",
    "import matplotlib.pyplot as plt\n",
    "\n",
    "from eofs.multivariate.standard import MultivariateEof"
   ]
  },
  {
   "cell_type": "code",
   "execution_count": 2,
   "metadata": {},
   "outputs": [
    {
     "name": "stdout",
     "output_type": "stream",
     "text": [
      "hallo\n"
     ]
    }
   ],
   "source": [
    "# \"era\", \"ncep\" or \"jra\"\n",
    "rea_selection = \"era\"\n",
    "\n",
    "# TODO maybe choose variable combination for validation later in this dict\n",
    "rea_info = {\n",
    "    \"era\": {'path':'C:/Users/Aspire_NB/Desktop/era5_data/small_era5_daily.nc',\n",
    "            'vars':['r', 'q']},\n",
    "}\n",
    "\n",
    "\n",
    "try:\n",
    "    ds_rea = xr.open_mfdataset(rea_info[rea_selection]['path'], decode_cf=True)\n",
    "except KeyError:\n",
    "    print(\"Choose a valid reanalysis from these options: {}\".format(', '.join(rea_info.keys())))\n",
    "    raise\n",
    "except:\n",
    "    print(\"Unexpected error\")\n",
    "    raise\n",
    "\n",
    "print ('hallo')"
   ]
  },
  {
   "cell_type": "code",
   "execution_count": 4,
   "metadata": {},
   "outputs": [],
   "source": [
    "# Prepare ERA   -------------------------------------------------------------------------------------\n",
    "if rea_selection == 'era':\n",
    "    ds_rea = xr.open_mfdataset(\"C:/Users/Aspire_NB/Desktop/era5_data/small_era5_daily.nc\", decode_cf=True).chunk({'time':-1})\n",
    "    ds_rea = ds_rea.rename({'latitude': 'lat', 'longitude': 'lon'})\n",
    "pass"
   ]
  },
  {
   "cell_type": "code",
   "execution_count": 5,
   "metadata": {},
   "outputs": [],
   "source": [
    "def calc_normalized_anomalies(ds_prep, window_size=21):\n",
    "    \"\"\"\n",
    "    This method prepares the input Dataset. It calculates the normalized anomalies with means\n",
    "    and std calculated with a centered window of size window_size\n",
    "    \"\"\"\n",
    "    \n",
    "\n",
    "    # Resample with mean over data if temporal resolution is higher than daily (Lower resolution not supported here)\n",
    "    if pd.infer_freq(ds_prep.time.data) not in 'D':\n",
    "        ds_prep = ds_prep.resample(time='1D').mean()\n",
    "        ds_prep = ds_prep.chunk({'time':-1})\n",
    "\n",
    "    # calculates the climatology and the standard deviation for further anomaly calculation\n",
    "    ds_prep_roll = ds_prep.rolling(time=window_size, center=True).construct('window_dim') # creates the rolling window as a new dimension\n",
    "\n",
    "    # mean after construct without dropna: first and last windows are considered, even if there are timesteps with missing values\n",
    "    ds_prep_clim = ds_prep_roll.groupby('time.dayofyear').mean(dim=['window_dim','time'])\n",
    "\n",
    "    # calculate standard deviation (dayofyear std) for rolling window over Target Day ± 10days (pool)\n",
    "    ds_prep_std = ds_prep_roll.groupby('time.dayofyear').std(dim=xr.ALL_DIMS) # Calculates the std for dayofyear of TD + pool, shape(365,)\n",
    "\n",
    "    # calculate daily normalized anomalies with mean and std from TD + pool\n",
    "    ds_prep = ds_prep.groupby('time.dayofyear') - ds_prep_clim\n",
    "    ds_rea = ds_prep.groupby('time.dayofyear') / ds_prep_std\n",
    "\n",
    "    # Rechunking necessary after groupby\n",
    "    ds_rea = ds_rea.chunk({'time': -1})\n",
    "\n",
    "    return ds_rea"
   ]
  },
  {
   "cell_type": "code",
   "execution_count": 6,
   "metadata": {},
   "outputs": [
    {
     "name": "stderr",
     "output_type": "stream",
     "text": [
      "C:\\Users\\Aspire_NB\\Anaconda3\\envs\\Klimaenvironment\\lib\\site-packages\\xarray\\core\\indexing.py:1195: PerformanceWarning: Slicing with an out-of-order index is generating 40 times more chunks\n",
      "  return self.array[key]\n"
     ]
    }
   ],
   "source": [
    "# Calculate normalized anomalies and construct rolled dimension\n",
    "ds_rea = calc_normalized_anomalies(ds_rea)\n",
    "ds_rea_roll = ds_rea.rolling(time=21, center=True).construct('window_dim')"
   ]
  },
  {
   "cell_type": "code",
   "execution_count": 7,
   "metadata": {},
   "outputs": [
    {
     "data": {
      "text/plain": [
       "<xarray.Dataset>\n",
       "Dimensions:    (lat: 3, lon: 9, time: 14610, window_dim: 21)\n",
       "Coordinates:\n",
       "  * lon        (lon) float32 9.0 10.0 11.0 12.0 13.0 14.0 15.0 16.0 17.0\n",
       "  * lat        (lat) float32 46.0 47.0 48.0\n",
       "  * time       (time) datetime64[ns] 1979-01-01 1979-01-02 ... 2018-12-31\n",
       "    dayofyear  (time) int64 dask.array<shape=(14610,), chunksize=(14610,)>\n",
       "Dimensions without coordinates: window_dim\n",
       "Data variables:\n",
       "    r          (time, lat, lon, window_dim) float32 dask.array<shape=(14610, 3, 9, 21), chunksize=(14610, 3, 9, 21)>\n",
       "    q          (time, lat, lon, window_dim) float32 dask.array<shape=(14610, 3, 9, 21), chunksize=(14610, 3, 9, 21)>\n",
       "    msl        (time, lat, lon, window_dim) float32 dask.array<shape=(14610, 3, 9, 21), chunksize=(14610, 3, 9, 21)>"
      ]
     },
     "execution_count": 7,
     "metadata": {},
     "output_type": "execute_result"
    }
   ],
   "source": [
    "ds_rea_roll"
   ]
  },
  {
   "cell_type": "code",
   "execution_count": 9,
   "metadata": {},
   "outputs": [],
   "source": [
    "# Loop over dayofyear   ---------------------------------------------------------------------------------------------------------\n",
    "for _, ds_test in ds_rea_roll.groupby(\"time.dayofyear\"):\n",
    "\n",
    "    # TODO\n",
    "    ds_test = ds_test.rename({\"time\":\"time_old\"})\n",
    "    #ds_test = ds_test.stack(time=('time_old', 'window_dim')).transpose('time_eof', 'lat', 'lon', 'nbnds')\n",
    "    ds_test = ds_test.stack(time=('time_old', 'window_dim')).transpose('time', 'lat', 'lon')\n",
    "    # Add attribute axis for EOF package to find new time dimension\n",
    "    ds_test.coords['time'].attrs['axis'] = 'T'\n",
    "\n",
    "    # Rename time dimension to avoid conflict if pcs are computed\n",
    "\n",
    "    # Create an EOF solver to do the EOF analysis. Square-root of cosine of\n",
    "    # latitude weights are applied before the computation of EOFs.\n",
    "    # coslat = np.cos(np.deg2rad(z_djf.coords['latitude'].values)).clip(0., 1.)\n",
    "    # wgts = np.sqrt(coslat)[..., np.newaxis]\n",
    "    #solver = Eof(ds_test.pres.dropna('time'))\n",
    "    \n",
    "    msl = ds_test.msl.dropna('time').values\n",
    "    r = ds_test.r.dropna('time').values\n",
    "    q = ds_test.q.dropna('time').values\n",
    "    \n",
    "    msolver = MultivariateEof([msl, r, q])\n",
    "    eofs_msl, eofs_r, eofs_q = msolver.eofs(neofs=5)\n",
    "    pc = msolver.pcs(npcs=5)\n",
    "\n",
    "\n",
    "    break"
   ]
  },
  {
   "cell_type": "code",
   "execution_count": 10,
   "metadata": {},
   "outputs": [
    {
     "data": {
      "text/plain": [
       "array([[[ 0.1143795 ,  0.11237804,  0.11399539,  0.11347608,\n",
       "          0.11468748,  0.1182808 ,  0.12362572,  0.12391073,\n",
       "          0.12344657],\n",
       "        [ 0.11374832,  0.11211598,  0.1132941 ,  0.11656632,\n",
       "          0.1160461 ,  0.11926754,  0.12350215,  0.12575233,\n",
       "          0.12530822],\n",
       "        [ 0.12735403,  0.1288682 ,  0.12987606,  0.1310866 ,\n",
       "          0.1313444 ,  0.13121511,  0.13071138,  0.12871194,\n",
       "          0.12657952]],\n",
       "\n",
       "       [[-0.14369449, -0.13782531, -0.14093941, -0.14645986,\n",
       "         -0.14998285, -0.14622732, -0.13990182, -0.13856916,\n",
       "         -0.13903807],\n",
       "        [-0.12505369, -0.12333157, -0.12347782, -0.12675561,\n",
       "         -0.12591317, -0.13050127, -0.13107961, -0.13286756,\n",
       "         -0.13375942],\n",
       "        [-0.12571701, -0.1259286 , -0.12458824, -0.12529089,\n",
       "         -0.12627216, -0.12668452, -0.12711783, -0.12603831,\n",
       "         -0.12960385]],\n",
       "\n",
       "       [[ 0.0059174 ,  0.01430979,  0.00959483, -0.00420775,\n",
       "         -0.00956721, -0.00134814,  0.01456717,  0.01528709,\n",
       "          0.01084115],\n",
       "        [ 0.1237473 ,  0.11886456,  0.09564081,  0.07542182,\n",
       "          0.06904189,  0.03722021,  0.03537472,  0.02942847,\n",
       "          0.0254669 ],\n",
       "        [ 0.12955987,  0.1275893 ,  0.12382121,  0.11349293,\n",
       "          0.10538761,  0.09404129,  0.08290722,  0.06482085,\n",
       "          0.03739027]],\n",
       "\n",
       "       [[-0.03459167, -0.0403348 , -0.03391299, -0.03078168,\n",
       "         -0.03035678, -0.0245025 , -0.01887279, -0.01892401,\n",
       "         -0.019688  ],\n",
       "        [-0.04218816, -0.04859429, -0.0437761 , -0.03992632,\n",
       "         -0.03169011, -0.02358796, -0.01717858, -0.01368359,\n",
       "         -0.01319396],\n",
       "        [-0.01557687, -0.01255747, -0.00929061, -0.00767263,\n",
       "         -0.00713855, -0.00603158, -0.00524428, -0.00376249,\n",
       "         -0.00688425]],\n",
       "\n",
       "       [[ 0.0225395 ,  0.01359118, -0.00135881, -0.00020228,\n",
       "          0.00476926, -0.02234625, -0.0591441 , -0.0718087 ,\n",
       "         -0.07652187],\n",
       "        [ 0.06653227,  0.06200316,  0.02148382,  0.00769484,\n",
       "         -0.01883232, -0.05056605, -0.07623442, -0.09109569,\n",
       "         -0.09315577],\n",
       "        [ 0.02931297,  0.02249057,  0.00493708, -0.00883046,\n",
       "         -0.01751917, -0.03727708, -0.05652578, -0.09465186,\n",
       "         -0.10565646]]], dtype=float32)"
      ]
     },
     "execution_count": 10,
     "metadata": {},
     "output_type": "execute_result"
    }
   ],
   "source": [
    "eofs_msl"
   ]
  },
  {
   "cell_type": "code",
   "execution_count": 11,
   "metadata": {},
   "outputs": [
    {
     "data": {
      "text/plain": [
       "array([[[-9.86091420e-02, -1.10496469e-01, -1.05361342e-01,\n",
       "         -1.02739058e-01, -1.04757875e-01, -1.09079354e-01,\n",
       "         -9.44225416e-02, -8.90793726e-02, -8.39906111e-02],\n",
       "        [-1.21250309e-01, -1.19632743e-01, -1.21524096e-01,\n",
       "         -1.17576525e-01, -1.14482388e-01, -1.04992330e-01,\n",
       "         -9.57592651e-02, -9.05840844e-02, -8.93042237e-02],\n",
       "        [-1.08449362e-01, -1.11468874e-01, -1.13146849e-01,\n",
       "         -1.11189574e-01, -1.07297689e-01, -1.00445159e-01,\n",
       "         -9.27638859e-02, -8.83959606e-02, -8.68111849e-02]],\n",
       "\n",
       "       [[-1.44757302e-02, -1.69872921e-02, -1.75217185e-02,\n",
       "         -1.39695127e-02, -1.89476982e-02, -1.19496686e-02,\n",
       "         -5.89558948e-03, -5.29909227e-03,  1.64175857e-04],\n",
       "        [ 1.26659218e-02,  3.45925824e-03, -6.79587899e-03,\n",
       "         -1.10710226e-02, -1.53080896e-02, -3.27319950e-02,\n",
       "         -2.86701191e-02, -2.10294221e-02, -1.25894342e-02],\n",
       "        [-5.50859841e-03, -1.24291079e-02, -2.11982019e-02,\n",
       "         -2.65385695e-02, -2.81451531e-02, -2.82903444e-02,\n",
       "         -2.93151103e-02, -3.12298629e-02, -2.24533100e-02]],\n",
       "\n",
       "       [[-4.53786179e-02, -1.54435951e-02,  3.47116143e-02,\n",
       "          8.09227079e-02,  1.12122096e-01,  1.40748635e-01,\n",
       "          1.93400472e-01,  2.13454530e-01,  2.11964756e-01],\n",
       "        [ 9.57630426e-02,  1.31985143e-01,  1.52460918e-01,\n",
       "          1.67858243e-01,  1.90610960e-01,  1.80170089e-01,\n",
       "          1.99072823e-01,  2.11653993e-01,  2.07025558e-01],\n",
       "        [ 4.28703949e-02,  8.03240389e-02,  1.15671031e-01,\n",
       "          1.45428121e-01,  1.75042957e-01,  1.96102649e-01,\n",
       "          2.05660895e-01,  1.94790810e-01,  1.82320550e-01]],\n",
       "\n",
       "       [[-1.23978518e-01, -1.17878780e-01, -6.23224452e-02,\n",
       "         -1.74372494e-02,  2.89294180e-02,  6.93297088e-02,\n",
       "          1.12743258e-01,  1.29364446e-01,  1.34688079e-01],\n",
       "        [-2.49080539e-01, -2.36616835e-01, -1.96562141e-01,\n",
       "         -1.36719123e-01, -8.10206607e-02,  4.65459144e-03,\n",
       "          7.36829713e-02,  1.18638538e-01,  1.32815853e-01],\n",
       "        [-2.37113178e-01, -2.37090781e-01, -2.10899577e-01,\n",
       "         -1.70741305e-01, -1.24140643e-01, -7.47623071e-02,\n",
       "         -1.55105861e-02,  5.20034917e-02,  8.84464979e-02]],\n",
       "\n",
       "       [[-2.82721758e-01, -2.93956757e-01, -3.04737270e-01,\n",
       "         -2.88647562e-01, -2.64278829e-01, -2.12697178e-01,\n",
       "         -1.47510439e-01, -7.94818401e-02, -3.40934508e-02],\n",
       "        [ 1.13118123e-02,  4.49350455e-06, -3.32799852e-02,\n",
       "         -5.56601323e-02, -4.48403619e-02, -5.20348884e-02,\n",
       "         -2.76477989e-02,  4.93557798e-03,  4.18123938e-02],\n",
       "        [ 5.08558452e-02,  7.58968219e-02,  9.05133709e-02,\n",
       "          1.09971933e-01,  1.31770238e-01,  1.42134964e-01,\n",
       "          1.44810751e-01,  1.27716139e-01,  1.29557714e-01]]],\n",
       "      dtype=float32)"
      ]
     },
     "execution_count": 11,
     "metadata": {},
     "output_type": "execute_result"
    }
   ],
   "source": [
    "eofs_r"
   ]
  },
  {
   "cell_type": "code",
   "execution_count": 12,
   "metadata": {},
   "outputs": [
    {
     "data": {
      "text/plain": [
       "array([[[-0.0997498 , -0.1123646 , -0.11138497, -0.11161389,\n",
       "         -0.1164363 , -0.12044573, -0.11387041, -0.1112387 ,\n",
       "         -0.10762055],\n",
       "        [-0.10381856, -0.10742371, -0.11177521, -0.11425721,\n",
       "         -0.11575379, -0.11137006, -0.10698597, -0.10404029,\n",
       "         -0.10367522],\n",
       "        [-0.09131648, -0.09621815, -0.10090466, -0.10307041,\n",
       "         -0.10263192, -0.099935  , -0.09706165, -0.09606531,\n",
       "         -0.09452391]],\n",
       "\n",
       "       [[-0.12490538, -0.1293587 , -0.12744692, -0.12376702,\n",
       "         -0.12520668, -0.12066114, -0.11448911, -0.11112451,\n",
       "         -0.10100664],\n",
       "        [-0.13748758, -0.1435731 , -0.14831395, -0.14922984,\n",
       "         -0.14881262, -0.14600864, -0.13860816, -0.12972711,\n",
       "         -0.11886726],\n",
       "        [-0.14416116, -0.15206642, -0.1590317 , -0.16212712,\n",
       "         -0.16185723, -0.15880696, -0.15295997, -0.14500692,\n",
       "         -0.1308805 ]],\n",
       "\n",
       "       [[-0.15744728, -0.14444052, -0.11249109, -0.08329777,\n",
       "         -0.06349247, -0.04277432, -0.01416931, -0.00141306,\n",
       "          0.00081899],\n",
       "        [-0.1212704 , -0.10544618, -0.09147204, -0.07454913,\n",
       "         -0.0592562 , -0.03702174, -0.01825238, -0.01025538,\n",
       "         -0.00972283],\n",
       "        [-0.13960195, -0.12193352, -0.10591751, -0.09042943,\n",
       "         -0.07328348, -0.0553773 , -0.03969477, -0.03281744,\n",
       "         -0.03104319]],\n",
       "\n",
       "       [[-0.08891215, -0.06579898, -0.01409262,  0.0349505 ,\n",
       "          0.08787073,  0.13896063,  0.18302296,  0.2087063 ,\n",
       "          0.22434208],\n",
       "        [-0.15647745, -0.12956497, -0.0848368 , -0.03098447,\n",
       "          0.02095022,  0.08618298,  0.14458288,  0.19403186,\n",
       "          0.2189596 ],\n",
       "        [-0.16406955, -0.14889486, -0.1120653 , -0.06642634,\n",
       "         -0.0158284 ,  0.03245365,  0.0862091 ,  0.14140107,\n",
       "          0.17777765]],\n",
       "\n",
       "       [[-0.14251173, -0.1583985 , -0.16641314, -0.1541183 ,\n",
       "         -0.14914432, -0.11716199, -0.06992384, -0.01832148,\n",
       "          0.01565791],\n",
       "        [ 0.03600371,  0.02036357,  0.00465992, -0.00332222,\n",
       "          0.00900336,  0.01593612,  0.03924748,  0.06014218,\n",
       "          0.08095932],\n",
       "        [ 0.08972736,  0.10368586,  0.11072208,  0.12263419,\n",
       "          0.1351956 ,  0.14646882,  0.15154886,  0.14837372,\n",
       "          0.14733902]]], dtype=float32)"
      ]
     },
     "execution_count": 12,
     "metadata": {},
     "output_type": "execute_result"
    }
   ],
   "source": [
    "eofs_q"
   ]
  }
 ],
 "metadata": {
  "kernelspec": {
   "display_name": "Python 3",
   "language": "python",
   "name": "python3"
  },
  "language_info": {
   "codemirror_mode": {
    "name": "ipython",
    "version": 3
   },
   "file_extension": ".py",
   "mimetype": "text/x-python",
   "name": "python",
   "nbconvert_exporter": "python",
   "pygments_lexer": "ipython3",
   "version": "3.7.3"
  }
 },
 "nbformat": 4,
 "nbformat_minor": 2
}
